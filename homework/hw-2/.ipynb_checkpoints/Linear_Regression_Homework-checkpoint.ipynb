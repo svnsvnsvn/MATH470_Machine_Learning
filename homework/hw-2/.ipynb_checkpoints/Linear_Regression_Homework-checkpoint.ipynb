{
 "cells": [
  {
   "cell_type": "markdown",
   "id": "96f0907f",
   "metadata": {},
   "source": [
    "\n",
    "# Homework: Linear Regression Analysis\n",
    "\n",
    "## Instructions:\n",
    "1. **Do not remove any existing cells.** Each section contains questions related to linear regression models.\n",
    "2. **Answer all questions in the provided Python code cells.** If a question requires explanation, write it in a markdown cell.\n",
    "3. **Use the datasets included in this notebook.** Ensure all analyses are performed using the data provided.\n",
    "4. **Submit your completed notebook as instructed by your professor.**\n",
    "\n",
    "## Topics Covered:\n",
    "- Simple Linear Regression\n",
    "- Multiple Linear Regression\n",
    "\n",
    "Answer all the questions by writing Python code in the designated code cells.\n"
   ]
  },
  {
   "cell_type": "markdown",
   "id": "56ce2178-847c-4835-a0ea-8c8a1f10afb4",
   "metadata": {},
   "source": [
    "# Simple Linear Regression"
   ]
  },
  {
   "cell_type": "markdown",
   "id": "fd812b1c-0098-4251-8b7b-327e9d783e89",
   "metadata": {},
   "source": [
    "### Data preprocessing"
   ]
  },
  {
   "cell_type": "markdown",
   "id": "42b92547",
   "metadata": {},
   "source": [
    "### Question: What is the purpose of the following analysis?\n",
    "Write the appropriate code to perform this task below."
   ]
  },
  {
   "cell_type": "code",
   "execution_count": null,
   "id": "160f957f",
   "metadata": {},
   "outputs": [],
   "source": []
  },
  {
   "cell_type": "markdown",
   "id": "40a50692",
   "metadata": {},
   "source": [
    "### Question: What is the purpose of the following analysis?\n",
    "Write the appropriate code to perform this task below."
   ]
  },
  {
   "cell_type": "code",
   "execution_count": null,
   "id": "1dbcad47",
   "metadata": {},
   "outputs": [],
   "source": []
  },
  {
   "cell_type": "markdown",
   "id": "94857899",
   "metadata": {},
   "source": [
    "### Question: What is the purpose of the following analysis?\n",
    "Write the appropriate code to perform this task below."
   ]
  },
  {
   "cell_type": "code",
   "execution_count": null,
   "id": "9a0bb87a",
   "metadata": {},
   "outputs": [],
   "source": []
  },
  {
   "cell_type": "markdown",
   "id": "69c0f340",
   "metadata": {},
   "source": [
    "### Question: What is the purpose of the following analysis?\n",
    "Write the appropriate code to perform this task below."
   ]
  },
  {
   "cell_type": "code",
   "execution_count": null,
   "id": "5f4bc1fb",
   "metadata": {},
   "outputs": [],
   "source": []
  },
  {
   "cell_type": "markdown",
   "id": "e8ba3e1c-d78b-4fb6-96c1-d15af034f3e7",
   "metadata": {},
   "source": [
    "### Fitting Simple Linear Regression to the Training set"
   ]
  },
  {
   "cell_type": "markdown",
   "id": "8a8c604f",
   "metadata": {},
   "source": [
    "### Question: What is the purpose of the following analysis?\n",
    "Write the appropriate code to perform this task below."
   ]
  },
  {
   "cell_type": "code",
   "execution_count": null,
   "id": "c48ce2c3",
   "metadata": {},
   "outputs": [],
   "source": []
  },
  {
   "cell_type": "markdown",
   "id": "c944f4d9-0e72-437a-a8bc-bcd33132dd72",
   "metadata": {},
   "source": [
    "### Predicting the Test set result"
   ]
  },
  {
   "cell_type": "markdown",
   "id": "5488cb57",
   "metadata": {},
   "source": [
    "### Question: What is the purpose of the following analysis?\n",
    "Write the appropriate code to perform this task below."
   ]
  },
  {
   "cell_type": "code",
   "execution_count": null,
   "id": "c39d5147",
   "metadata": {},
   "outputs": [],
   "source": []
  },
  {
   "cell_type": "markdown",
   "id": "2ccb83ef",
   "metadata": {},
   "source": [
    "### Question: What is the purpose of the following analysis?\n",
    "Write the appropriate code to perform this task below."
   ]
  },
  {
   "cell_type": "code",
   "execution_count": null,
   "id": "08f22e25",
   "metadata": {},
   "outputs": [],
   "source": []
  },
  {
   "cell_type": "markdown",
   "id": "babe69c3-c29d-4fe7-a5f9-cb675f4486d0",
   "metadata": {},
   "source": [
    "Let's compare the predicted values with y_test"
   ]
  },
  {
   "cell_type": "markdown",
   "id": "ede3b006",
   "metadata": {},
   "source": [
    "### Question: What is the purpose of the following analysis?\n",
    "Write the appropriate code to perform this task below."
   ]
  },
  {
   "cell_type": "code",
   "execution_count": null,
   "id": "fcbc3f94",
   "metadata": {},
   "outputs": [],
   "source": []
  },
  {
   "cell_type": "markdown",
   "id": "b674c5e2-6ad8-4043-aada-c2232e7da471",
   "metadata": {},
   "source": [
    "### Visualising the Training set results"
   ]
  },
  {
   "cell_type": "markdown",
   "id": "eff0ce3e",
   "metadata": {},
   "source": [
    "### Question: What is the purpose of the following analysis?\n",
    "Write the appropriate code to perform this task below."
   ]
  },
  {
   "cell_type": "code",
   "execution_count": null,
   "id": "cd158e84",
   "metadata": {},
   "outputs": [],
   "source": []
  },
  {
   "cell_type": "markdown",
   "id": "b2212885-12a1-4b1d-bd41-f9d83d1f53e7",
   "metadata": {},
   "source": [
    "### Visualising the Test set results"
   ]
  },
  {
   "cell_type": "markdown",
   "id": "2f664552",
   "metadata": {},
   "source": [
    "### Question: What is the purpose of the following analysis?\n",
    "Write the appropriate code to perform this task below."
   ]
  },
  {
   "cell_type": "code",
   "execution_count": null,
   "id": "fccf6363",
   "metadata": {},
   "outputs": [],
   "source": []
  },
  {
   "cell_type": "markdown",
   "id": "0da99542-4dd0-4ea6-84f2-4636622f995c",
   "metadata": {},
   "source": [
    "### Checking accuracy of the model"
   ]
  },
  {
   "cell_type": "markdown",
   "id": "1aa671df",
   "metadata": {},
   "source": [
    "### Question: What is the purpose of the following analysis?\n",
    "Write the appropriate code to perform this task below."
   ]
  },
  {
   "cell_type": "code",
   "execution_count": null,
   "id": "ba79b3ad",
   "metadata": {},
   "outputs": [],
   "source": []
  },
  {
   "cell_type": "markdown",
   "id": "0fb94098",
   "metadata": {},
   "source": [
    "# Multiple Linear Regression"
   ]
  },
  {
   "cell_type": "markdown",
   "id": "3e9a9d04-7db0-4444-85f1-13d09aa75fc6",
   "metadata": {},
   "source": [
    "# Multiple Linear Regression"
   ]
  },
  {
   "cell_type": "markdown",
   "id": "b08c39d8-eea4-4186-9e48-acd829b4abd8",
   "metadata": {},
   "source": [
    "### Data preprocessing"
   ]
  },
  {
   "cell_type": "markdown",
   "id": "8b0f54fb",
   "metadata": {},
   "source": [
    "### Question: How does multiple linear regression differ from simple linear regression?\n",
    "Write the Python code to perform multiple linear regression below."
   ]
  },
  {
   "cell_type": "code",
   "execution_count": null,
   "id": "c0fb4305",
   "metadata": {},
   "outputs": [],
   "source": []
  },
  {
   "cell_type": "markdown",
   "id": "a899709e",
   "metadata": {},
   "source": [
    "### Question: How does multiple linear regression differ from simple linear regression?\n",
    "Write the Python code to perform multiple linear regression below."
   ]
  },
  {
   "cell_type": "code",
   "execution_count": null,
   "id": "a9ffd1c1",
   "metadata": {},
   "outputs": [],
   "source": []
  },
  {
   "cell_type": "markdown",
   "id": "00d01be5",
   "metadata": {},
   "source": [
    "### Question: How does multiple linear regression differ from simple linear regression?\n",
    "Write the Python code to perform multiple linear regression below."
   ]
  },
  {
   "cell_type": "code",
   "execution_count": null,
   "id": "4e292911",
   "metadata": {},
   "outputs": [],
   "source": []
  },
  {
   "cell_type": "markdown",
   "id": "220651ca",
   "metadata": {},
   "source": [
    "### Question: How does multiple linear regression differ from simple linear regression?\n",
    "Write the Python code to perform multiple linear regression below."
   ]
  },
  {
   "cell_type": "code",
   "execution_count": null,
   "id": "9f4d1676",
   "metadata": {},
   "outputs": [],
   "source": []
  },
  {
   "cell_type": "markdown",
   "id": "8c34d70e",
   "metadata": {},
   "source": [
    "### Question: How does multiple linear regression differ from simple linear regression?\n",
    "Write the Python code to perform multiple linear regression below."
   ]
  },
  {
   "cell_type": "code",
   "execution_count": null,
   "id": "4d4e95bd",
   "metadata": {},
   "outputs": [],
   "source": []
  },
  {
   "cell_type": "markdown",
   "id": "0dc01a8a-1935-4441-b556-d29dc8049af6",
   "metadata": {},
   "source": [
    "#### Creating dummy variable for State column"
   ]
  },
  {
   "cell_type": "markdown",
   "id": "b526d32a",
   "metadata": {},
   "source": [
    "### Question: How does multiple linear regression differ from simple linear regression?\n",
    "Write the Python code to perform multiple linear regression below."
   ]
  },
  {
   "cell_type": "code",
   "execution_count": null,
   "id": "fb5686c5",
   "metadata": {},
   "outputs": [],
   "source": []
  },
  {
   "cell_type": "markdown",
   "id": "e67f2e5f",
   "metadata": {},
   "source": [
    "### Question: How does multiple linear regression differ from simple linear regression?\n",
    "Write the Python code to perform multiple linear regression below."
   ]
  },
  {
   "cell_type": "code",
   "execution_count": null,
   "id": "a79b5774",
   "metadata": {},
   "outputs": [],
   "source": []
  },
  {
   "cell_type": "markdown",
   "id": "27ed255e-d3a3-4242-a5e0-29bdebfc043d",
   "metadata": {},
   "source": [
    "#### Avoiding dummy variable trap"
   ]
  },
  {
   "cell_type": "markdown",
   "id": "3cda59a6",
   "metadata": {},
   "source": [
    "### Question: How does multiple linear regression differ from simple linear regression?\n",
    "Write the Python code to perform multiple linear regression below."
   ]
  },
  {
   "cell_type": "code",
   "execution_count": null,
   "id": "b718e8c3",
   "metadata": {},
   "outputs": [],
   "source": []
  },
  {
   "cell_type": "markdown",
   "id": "b5d2ab4d-6279-424a-a050-9eeb194ee672",
   "metadata": {},
   "source": [
    "#### Splitting data into Train and Test Set "
   ]
  },
  {
   "cell_type": "markdown",
   "id": "4fe26d54",
   "metadata": {},
   "source": [
    "### Question: How does multiple linear regression differ from simple linear regression?\n",
    "Write the Python code to perform multiple linear regression below."
   ]
  },
  {
   "cell_type": "code",
   "execution_count": null,
   "id": "f514b381",
   "metadata": {},
   "outputs": [],
   "source": []
  },
  {
   "cell_type": "markdown",
   "id": "22f22955",
   "metadata": {},
   "source": [
    "### Question: How does multiple linear regression differ from simple linear regression?\n",
    "Write the Python code to perform multiple linear regression below."
   ]
  },
  {
   "cell_type": "code",
   "execution_count": null,
   "id": "a4eb28be",
   "metadata": {},
   "outputs": [],
   "source": []
  },
  {
   "cell_type": "markdown",
   "id": "9284823d",
   "metadata": {},
   "source": [
    "### Question: How does multiple linear regression differ from simple linear regression?\n",
    "Write the Python code to perform multiple linear regression below."
   ]
  },
  {
   "cell_type": "code",
   "execution_count": null,
   "id": "75b0fc82",
   "metadata": {},
   "outputs": [],
   "source": []
  },
  {
   "cell_type": "markdown",
   "id": "fcfae8ec-b44d-4fc3-8729-132eef5504ef",
   "metadata": {},
   "source": [
    "### Fitting Multiple Linear Regression to the Training set"
   ]
  },
  {
   "cell_type": "markdown",
   "id": "9a3b5730",
   "metadata": {},
   "source": [
    "### Question: How does multiple linear regression differ from simple linear regression?\n",
    "Write the Python code to perform multiple linear regression below."
   ]
  },
  {
   "cell_type": "code",
   "execution_count": null,
   "id": "8080eb7d",
   "metadata": {},
   "outputs": [],
   "source": []
  },
  {
   "cell_type": "markdown",
   "id": "276ca3c9",
   "metadata": {},
   "source": [
    "### Question: How does multiple linear regression differ from simple linear regression?\n",
    "Write the Python code to perform multiple linear regression below."
   ]
  },
  {
   "cell_type": "code",
   "execution_count": null,
   "id": "a8197882",
   "metadata": {},
   "outputs": [],
   "source": []
  },
  {
   "cell_type": "markdown",
   "id": "be5d19bc-eb7d-48c7-bd60-7285822e39c6",
   "metadata": {},
   "source": [
    "### Predicting values from the Test set"
   ]
  },
  {
   "cell_type": "markdown",
   "id": "30470a61",
   "metadata": {},
   "source": [
    "### Question: How does multiple linear regression differ from simple linear regression?\n",
    "Write the Python code to perform multiple linear regression below."
   ]
  },
  {
   "cell_type": "code",
   "execution_count": null,
   "id": "0b831a62",
   "metadata": {},
   "outputs": [],
   "source": []
  },
  {
   "cell_type": "markdown",
   "id": "33386bd6",
   "metadata": {},
   "source": [
    "### Question: How does multiple linear regression differ from simple linear regression?\n",
    "Write the Python code to perform multiple linear regression below."
   ]
  },
  {
   "cell_type": "code",
   "execution_count": null,
   "id": "a65cbdd9",
   "metadata": {},
   "outputs": [],
   "source": []
  },
  {
   "cell_type": "markdown",
   "id": "eaa8b277-42aa-4214-8c60-89675be2ef49",
   "metadata": {},
   "source": [
    "Let's compare it with the actual values"
   ]
  },
  {
   "cell_type": "markdown",
   "id": "edf95b82",
   "metadata": {},
   "source": [
    "### Question: How does multiple linear regression differ from simple linear regression?\n",
    "Write the Python code to perform multiple linear regression below."
   ]
  },
  {
   "cell_type": "code",
   "execution_count": null,
   "id": "4c466781",
   "metadata": {},
   "outputs": [],
   "source": []
  },
  {
   "cell_type": "markdown",
   "id": "ccb7e3d0-839d-416d-8abb-f4b76decc5b1",
   "metadata": {},
   "source": [
    "### Checking the accuracy of the model"
   ]
  },
  {
   "cell_type": "markdown",
   "id": "3289b413",
   "metadata": {},
   "source": [
    "### Question: How does multiple linear regression differ from simple linear regression?\n",
    "Write the Python code to perform multiple linear regression below."
   ]
  },
  {
   "cell_type": "code",
   "execution_count": null,
   "id": "d1e27ff0",
   "metadata": {},
   "outputs": [],
   "source": []
  },
  {
   "cell_type": "markdown",
   "id": "48c1b0af-0ffd-4c99-800f-ffc86709d4a2",
   "metadata": {},
   "source": [
    "### Building the optimal model using Backward Elimination"
   ]
  },
  {
   "cell_type": "markdown",
   "id": "da34ea74",
   "metadata": {},
   "source": [
    "### Question: How does multiple linear regression differ from simple linear regression?\n",
    "Write the Python code to perform multiple linear regression below."
   ]
  },
  {
   "cell_type": "code",
   "execution_count": null,
   "id": "8fc1d14f",
   "metadata": {},
   "outputs": [],
   "source": []
  },
  {
   "cell_type": "markdown",
   "id": "273f4be4",
   "metadata": {},
   "source": [
    "### Question: How does multiple linear regression differ from simple linear regression?\n",
    "Write the Python code to perform multiple linear regression below."
   ]
  },
  {
   "cell_type": "code",
   "execution_count": null,
   "id": "ad827e65",
   "metadata": {},
   "outputs": [],
   "source": []
  },
  {
   "cell_type": "markdown",
   "id": "29c81ac3",
   "metadata": {},
   "source": [
    "### Question: How does multiple linear regression differ from simple linear regression?\n",
    "Write the Python code to perform multiple linear regression below."
   ]
  },
  {
   "cell_type": "code",
   "execution_count": null,
   "id": "48055621",
   "metadata": {},
   "outputs": [],
   "source": []
  },
  {
   "cell_type": "markdown",
   "id": "e40ab4ad",
   "metadata": {},
   "source": [
    "### Question: How does multiple linear regression differ from simple linear regression?\n",
    "Write the Python code to perform multiple linear regression below."
   ]
  },
  {
   "cell_type": "code",
   "execution_count": null,
   "id": "d62ccee0",
   "metadata": {},
   "outputs": [],
   "source": []
  },
  {
   "cell_type": "markdown",
   "id": "e0af8338",
   "metadata": {},
   "source": [
    "### Question: How does multiple linear regression differ from simple linear regression?\n",
    "Write the Python code to perform multiple linear regression below."
   ]
  },
  {
   "cell_type": "code",
   "execution_count": null,
   "id": "92002aca",
   "metadata": {},
   "outputs": [],
   "source": []
  },
  {
   "cell_type": "markdown",
   "id": "1ddd4619",
   "metadata": {},
   "source": [
    "### Question: How does multiple linear regression differ from simple linear regression?\n",
    "Write the Python code to perform multiple linear regression below."
   ]
  },
  {
   "cell_type": "code",
   "execution_count": null,
   "id": "0686a4dc",
   "metadata": {},
   "outputs": [],
   "source": []
  },
  {
   "cell_type": "markdown",
   "id": "02deb490",
   "metadata": {},
   "source": [
    "### Question: How does multiple linear regression differ from simple linear regression?\n",
    "Write the Python code to perform multiple linear regression below."
   ]
  },
  {
   "cell_type": "code",
   "execution_count": null,
   "id": "b20ce325",
   "metadata": {},
   "outputs": [],
   "source": []
  },
  {
   "cell_type": "markdown",
   "id": "90c4b255",
   "metadata": {},
   "source": [
    "### Question: How does multiple linear regression differ from simple linear regression?\n",
    "Write the Python code to perform multiple linear regression below."
   ]
  },
  {
   "cell_type": "code",
   "execution_count": null,
   "id": "cdfc8437",
   "metadata": {},
   "outputs": [],
   "source": []
  },
  {
   "cell_type": "markdown",
   "id": "f0f58682",
   "metadata": {},
   "source": [
    "### Question: How does multiple linear regression differ from simple linear regression?\n",
    "Write the Python code to perform multiple linear regression below."
   ]
  },
  {
   "cell_type": "code",
   "execution_count": null,
   "id": "38adfcbe",
   "metadata": {},
   "outputs": [],
   "source": []
  },
  {
   "cell_type": "markdown",
   "id": "bd32c807",
   "metadata": {},
   "source": [
    "### Question: How does multiple linear regression differ from simple linear regression?\n",
    "Write the Python code to perform multiple linear regression below."
   ]
  },
  {
   "cell_type": "code",
   "execution_count": null,
   "id": "d135c859",
   "metadata": {},
   "outputs": [],
   "source": []
  },
  {
   "cell_type": "markdown",
   "id": "6c59a5ba",
   "metadata": {},
   "source": [
    "### Question: How does multiple linear regression differ from simple linear regression?\n",
    "Write the Python code to perform multiple linear regression below."
   ]
  },
  {
   "cell_type": "code",
   "execution_count": null,
   "id": "220ad673",
   "metadata": {},
   "outputs": [],
   "source": []
  },
  {
   "cell_type": "markdown",
   "id": "3463cb4d",
   "metadata": {},
   "source": [
    "### Question: How does multiple linear regression differ from simple linear regression?\n",
    "Write the Python code to perform multiple linear regression below."
   ]
  },
  {
   "cell_type": "code",
   "execution_count": null,
   "id": "fff7f760",
   "metadata": {},
   "outputs": [],
   "source": []
  },
  {
   "cell_type": "markdown",
   "id": "8da14fc1",
   "metadata": {},
   "source": [
    "### Question: How does multiple linear regression differ from simple linear regression?\n",
    "Write the Python code to perform multiple linear regression below."
   ]
  },
  {
   "cell_type": "code",
   "execution_count": null,
   "id": "b8f8c4dd",
   "metadata": {},
   "outputs": [],
   "source": []
  },
  {
   "cell_type": "markdown",
   "id": "d3a1ce5f",
   "metadata": {},
   "source": [
    "### Question: How does multiple linear regression differ from simple linear regression?\n",
    "Write the Python code to perform multiple linear regression below."
   ]
  },
  {
   "cell_type": "code",
   "execution_count": null,
   "id": "e6006e89",
   "metadata": {},
   "outputs": [],
   "source": []
  },
  {
   "cell_type": "markdown",
   "id": "cbae10db-67fb-4eeb-93e5-faf14a8057e0",
   "metadata": {},
   "source": [
    "### Analysing the results of Regression"
   ]
  },
  {
   "cell_type": "markdown",
   "id": "695a804d",
   "metadata": {},
   "source": [
    "### Question: How does multiple linear regression differ from simple linear regression?\n",
    "Write the Python code to perform multiple linear regression below."
   ]
  },
  {
   "cell_type": "code",
   "execution_count": null,
   "id": "8e412a90",
   "metadata": {},
   "outputs": [],
   "source": []
  },
  {
   "cell_type": "markdown",
   "id": "a0f669eb-781f-425c-b6c6-c92330ebb35b",
   "metadata": {},
   "source": [
    "As you can see that the Backward Elimination helped the model to to increase its accuracy from 93.47% to 94.64%"
   ]
  }
 ],
 "metadata": {},
 "nbformat": 4,
 "nbformat_minor": 5
}
