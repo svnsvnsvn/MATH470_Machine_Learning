{
 "cells": [
  {
   "cell_type": "markdown",
   "id": "3e38d12b",
   "metadata": {},
   "source": [
    "\n",
    "# Homework-2: Linear Regression and Multiple Linear Regression\n",
    "\n",
    "## Due: 2/7/2025 at 11:50 PM\n",
    "\n",
    "## Instructions:\n",
    "1. **Do not remove any existing cells.** Each section contains questions related to linear regression models.\n",
    "2. **Write a clear Python code under each question.** If a question requires an explanation, write it in a markdown cell.\n",
    "3. **Use the datasets provided.** Ensure that all analyses are performed using the given datasets.\n",
    "4. **Submit your completed notebook to the Blackboard.**\n",
    "\n",
    "---\n",
    "\n",
    "## Part I: Simple Linear Regression\n",
    "\n",
    "**Dataset Preview:**\n",
    "\n",
    "```python\n",
    "import pandas as pd\n",
    "\n",
    "dataset = pd.read_csv(\"Salary_Data.csv\") \n",
    "dataset.head()\n",
    "```\n",
    "\n",
    "| YearsExperience | Salary  |\n",
    "|----------------|---------|\n",
    "| 1.1           | 39343.0 |\n",
    "| 1.3           | 46205.0 |\n",
    "| 1.5           | 37731.0 |\n",
    "| 2.0           | 43525.0 |\n",
    "| 2.2           | 39891.0 |\n",
    "\n",
    "### Q1: Explore the dataset and split it into training and testing sets\n",
    "- Choose \"YearsExperience\" as the independent variable **X**.\n",
    "- Choose \"Salary\" as the dependent variable **Y**.\n",
    "\n",
    "```python\n",
    "# Write your code here\n",
    "```\n"
   ]
  },
  {
   "cell_type": "code",
   "execution_count": null,
   "id": "789c94ea-fda3-4744-870c-a25cfd7f4768",
   "metadata": {},
   "outputs": [],
   "source": []
  },
  {
   "cell_type": "markdown",
   "id": "0f898b3d-5460-43ba-be72-0bead742430f",
   "metadata": {},
   "source": []
  },
  {
   "cell_type": "markdown",
   "id": "3bd27394-5b8e-4170-ad85-e99e2d273c3e",
   "metadata": {},
   "source": [
    "### Q2: Fit Simple Linear Regression to the Training set\n",
    "\n",
    "```python\n",
    "# Write your code here\n",
    "```"
   ]
  },
  {
   "cell_type": "code",
   "execution_count": null,
   "id": "5ff53b62-fd0f-4a21-9f86-631eff6d279b",
   "metadata": {},
   "outputs": [],
   "source": []
  },
  {
   "cell_type": "markdown",
   "id": "96d0187f-f238-4cfd-815b-64e0b9eb68cc",
   "metadata": {},
   "source": []
  },
  {
   "cell_type": "markdown",
   "id": "2a55672f-e704-429a-ba5e-cfc9b75b20db",
   "metadata": {},
   "source": [
    "\n",
    "### Q3: Predict the Test set results\n",
    "\n",
    "```python\n",
    "# Write your code here\n",
    "```\n"
   ]
  },
  {
   "cell_type": "code",
   "execution_count": null,
   "id": "55324de6-641d-4396-838b-773465833580",
   "metadata": {},
   "outputs": [],
   "source": []
  },
  {
   "cell_type": "markdown",
   "id": "0b6678f9-05ab-4b3a-b492-ade570dc7eea",
   "metadata": {},
   "source": []
  },
  {
   "cell_type": "markdown",
   "id": "7c4fb0d5-d866-47f0-8dee-f4c73004116f",
   "metadata": {},
   "source": [
    "\n",
    "### Q4: Visualizing the Training set results\n",
    "\n",
    "```python\n",
    "# Write your code here\n",
    "```\n"
   ]
  },
  {
   "cell_type": "code",
   "execution_count": null,
   "id": "038f48ea-c18e-4c64-814d-a958ef9cc53c",
   "metadata": {},
   "outputs": [],
   "source": []
  },
  {
   "cell_type": "markdown",
   "id": "e5fac1c1-1ae6-4068-b959-ad61e708abe7",
   "metadata": {},
   "source": []
  },
  {
   "cell_type": "markdown",
   "id": "5ba576ab-14ec-486a-96af-cada8b1fe12e",
   "metadata": {},
   "source": [
    "### Q5: Visualizing the Test set results\n",
    "\n",
    "```python\n",
    "# Write your code here\n",
    "```\n"
   ]
  },
  {
   "cell_type": "code",
   "execution_count": null,
   "id": "d1afcab8-64ac-4461-ae18-e05cab5fa374",
   "metadata": {},
   "outputs": [],
   "source": []
  },
  {
   "cell_type": "markdown",
   "id": "7520d0ef-acca-4bb6-a3b6-e72f62a9aa27",
   "metadata": {},
   "source": []
  },
  {
   "cell_type": "markdown",
   "id": "7ce09e0d-d5cb-4635-9118-9e79c6472793",
   "metadata": {},
   "source": [
    "\n",
    "### Q6: Check the accuracy of the model\n",
    "\n",
    "```python\n",
    "# Write your code here\n",
    "```\n",
    "\n"
   ]
  },
  {
   "cell_type": "code",
   "execution_count": null,
   "id": "4f0b1712-9ef4-4449-b790-fab10f3b461c",
   "metadata": {},
   "outputs": [],
   "source": []
  },
  {
   "cell_type": "markdown",
   "id": "301460d9-1239-4093-8cef-1ad10774f226",
   "metadata": {},
   "source": []
  },
  {
   "cell_type": "markdown",
   "id": "65f09847-8a47-488e-a464-57ee8dcd6108",
   "metadata": {},
   "source": [
    "---\n",
    "\n",
    "## Part II: Multiple Linear Regression\n",
    "\n",
    "**Dataset Preview:**\n",
    "\n",
    "```python\n",
    "dataset = pd.read_csv(\"50_Startups.csv\") \n",
    "dataset.head()\n",
    "```\n",
    "\n",
    "| R&D Spend  | Administration | Marketing Spend | State     | Profit   |\n",
    "|------------|---------------|----------------|-----------|----------|\n",
    "| 165349.20  | 136897.80     | 471784.10     | New York  | 192261.83 |\n",
    "| 162597.70  | 151377.59     | 443898.53     | California| 191792.06 |\n",
    "| 153441.51  | 101145.55     | 407934.54     | Florida   | 191050.39 |\n",
    "| 144372.41  | 118671.85     | 383199.62     | New York  | 182901.99 |\n",
    "| 142107.34  | 91391.77      | 366168.42     | Florida   | 166187.94 |\n",
    "\n",
    "### Q1: Explore the dataset and split it into training and testing sets\n",
    "- Choose \"Profit\" as the dependent variable **Y**."
   ]
  },
  {
   "cell_type": "code",
   "execution_count": null,
   "id": "26664636-552e-4f5c-96be-fbb22abfe725",
   "metadata": {},
   "outputs": [],
   "source": [
    "# Write your code here"
   ]
  },
  {
   "cell_type": "markdown",
   "id": "9de45cc5-2907-4fab-8bea-bf3fc30e73b6",
   "metadata": {},
   "source": []
  },
  {
   "cell_type": "markdown",
   "id": "f9997fcd-23be-467e-82fe-5bef0adbe2ee",
   "metadata": {},
   "source": [
    "### Q2: Create dummy variables for the \"State\" column and avoid the dummy variable trap"
   ]
  },
  {
   "cell_type": "code",
   "execution_count": null,
   "id": "321e20d9-9549-4369-981f-e8c020d223e0",
   "metadata": {},
   "outputs": [],
   "source": [
    "# Write your code here"
   ]
  },
  {
   "cell_type": "markdown",
   "id": "de522191-fb31-42d7-b373-18a7873c10d9",
   "metadata": {},
   "source": []
  },
  {
   "cell_type": "markdown",
   "id": "f582a6d9-ee33-4404-a7a6-cba6acc6c215",
   "metadata": {},
   "source": [
    "### Q3: Split data into Training and Testing sets\n"
   ]
  },
  {
   "cell_type": "code",
   "execution_count": null,
   "id": "a2880afe-2b78-4755-a6fd-266951600a81",
   "metadata": {},
   "outputs": [],
   "source": [
    "# Write your code here"
   ]
  },
  {
   "cell_type": "markdown",
   "id": "f7aa7b01-d33e-4fb6-b30b-08b4190c7f16",
   "metadata": {},
   "source": []
  },
  {
   "cell_type": "markdown",
   "id": "5ceb8396-7803-4dc1-8a37-52804fc949b7",
   "metadata": {},
   "source": [
    "### Q4: Fit Multiple Linear Regression to the Training set\n",
    "\n",
    "```python\n",
    "# Write your code here\n",
    "```\n"
   ]
  },
  {
   "cell_type": "code",
   "execution_count": null,
   "id": "dbb70fea-e1fc-475e-99fc-acab01b4cc28",
   "metadata": {},
   "outputs": [],
   "source": [
    "# Write your code here"
   ]
  },
  {
   "cell_type": "markdown",
   "id": "aa2dd7d4-8814-46ff-a033-92db22718816",
   "metadata": {},
   "source": []
  },
  {
   "cell_type": "markdown",
   "id": "833733e9-28ba-4ca2-a12b-3c46433bea14",
   "metadata": {},
   "source": [
    "### Q5: Predict values from the Test set\n",
    "\n",
    "```python\n",
    "# Write your code here\n",
    "```\n"
   ]
  },
  {
   "cell_type": "code",
   "execution_count": null,
   "id": "6b5b02bc-314e-4671-93e6-79341741a22a",
   "metadata": {},
   "outputs": [],
   "source": [
    "# Write your code here"
   ]
  },
  {
   "cell_type": "markdown",
   "id": "0a1118ac-5a24-4f01-a43b-2c78d7f65027",
   "metadata": {},
   "source": []
  },
  {
   "cell_type": "markdown",
   "id": "d61b6d06-8cf2-4070-a93b-be770e22c3de",
   "metadata": {},
   "source": [
    "### Q6: Check the accuracy of the model\n",
    "\n",
    "```python\n",
    "# Write your code here\n",
    "```\n",
    "\n",
    "---\n",
    "\n",
    "\n"
   ]
  },
  {
   "cell_type": "code",
   "execution_count": null,
   "id": "1438a268-8a79-40f6-8508-f49ba55a508d",
   "metadata": {},
   "outputs": [],
   "source": [
    "# Write your code here"
   ]
  },
  {
   "cell_type": "markdown",
   "id": "02e4e927-f79d-4bf7-8b7a-1a1a546231b0",
   "metadata": {},
   "source": []
  },
  {
   "cell_type": "markdown",
   "id": "ea5938e1-9335-441e-b3a5-07574d384d2a",
   "metadata": {},
   "source": [
    "<br><br><br><br><br><br><br>\n",
    "\n",
    "---\n",
    "\n",
    "### **The end of the homework!!**\n",
    "\n",
    "Please save your work above and  submit the completed notebook to Blackboard (**Make sure you add your name to the file title above**)"
   ]
  }
 ],
 "metadata": {
  "kernelspec": {
   "display_name": "Python 3 (ipykernel)",
   "language": "python",
   "name": "python3"
  },
  "language_info": {
   "codemirror_mode": {
    "name": "ipython",
    "version": 3
   },
   "file_extension": ".py",
   "mimetype": "text/x-python",
   "name": "python",
   "nbconvert_exporter": "python",
   "pygments_lexer": "ipython3",
   "version": "3.12.4"
  }
 },
 "nbformat": 4,
 "nbformat_minor": 5
}
